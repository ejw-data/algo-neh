{
 "cells": [
  {
   "cell_type": "code",
   "execution_count": 1,
   "metadata": {},
   "outputs": [],
   "source": [
    "def total_processing_time(job, machines):\n",
    "    return sum(machines[job])"
   ]
  },
  {
   "cell_type": "code",
   "execution_count": 2,
   "metadata": {},
   "outputs": [],
   "source": [
    "def neh_heuristic(machines):\n",
    "    num_jobs = len(machines)\n",
    "    num_machines = len(machines[0])\n",
    "\n",
    "    # Step 1: Initialize an empty schedule\n",
    "    schedule = []\n",
    "\n",
    "    # Step 2: Compute the initial sequence using the \"NEH\" rule\n",
    "    initial_sequence = sorted(range(num_jobs), key=lambda job: -total_processing_time(job, machines))\n",
    "\n",
    "    # Step 3: Insert jobs into the schedule using the \"NEH\" insertion rule\n",
    "    for job in initial_sequence:\n",
    "        best_insertion_index = None\n",
    "        best_makespan = float('inf')\n",
    "\n",
    "        for i in range(len(schedule) + 1):\n",
    "            modified_schedule = schedule[:i] + [job] + schedule[i:]\n",
    "            makespan = calculate_makespan(modified_schedule, machines)\n",
    "\n",
    "            if makespan < best_makespan:\n",
    "                best_makespan = makespan\n",
    "                best_insertion_index = i\n",
    "\n",
    "        schedule.insert(best_insertion_index, job)\n",
    "\n",
    "    return schedule"
   ]
  },
  {
   "cell_type": "code",
   "execution_count": 3,
   "metadata": {},
   "outputs": [],
   "source": [
    "def calculate_makespan(schedule, machines):\n",
    "    num_jobs = len(schedule)\n",
    "    num_machines = len(machines[0])\n",
    "\n",
    "    completion_times = [0] * num_machines\n",
    "\n",
    "    for job in schedule:\n",
    "        for machine in range(num_machines):\n",
    "            completion_times[machine] += machines[job][machine]\n",
    "\n",
    "    return max(completion_times)"
   ]
  },
  {
   "cell_type": "code",
   "execution_count": 4,
   "metadata": {},
   "outputs": [
    {
     "name": "stdout",
     "output_type": "stream",
     "text": [
      "NEH Heuristic Schedule: [2, 1, 0]\n",
      "Makespan: 10\n"
     ]
    }
   ],
   "source": [
    "# Example usage:\n",
    "if __name__ == \"__main__\":\n",
    "    # Example input with 3 jobs and 3 machines\n",
    "    machines = [\n",
    "        [3, 2, 5],\n",
    "        [1, 4, 3],\n",
    "        [2, 3, 2]\n",
    "    ]\n",
    "\n",
    "    schedule = neh_heuristic(machines)\n",
    "    print(\"NEH Heuristic Schedule:\", schedule)\n",
    "    print(\"Makespan:\", calculate_makespan(schedule, machines))\n"
   ]
  }
 ],
 "metadata": {
  "kernelspec": {
   "display_name": "python310",
   "language": "python",
   "name": "python3"
  },
  "language_info": {
   "codemirror_mode": {
    "name": "ipython",
    "version": 3
   },
   "file_extension": ".py",
   "mimetype": "text/x-python",
   "name": "python",
   "nbconvert_exporter": "python",
   "pygments_lexer": "ipython3",
   "version": "3.10.11"
  },
  "orig_nbformat": 4
 },
 "nbformat": 4,
 "nbformat_minor": 2
}
